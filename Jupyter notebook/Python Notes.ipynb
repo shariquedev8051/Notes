{
 "cells": [
  {
   "cell_type": "markdown",
   "id": "512326ea",
   "metadata": {},
   "source": [
    "# Python Notes By Vishnu sir"
   ]
  },
  {
   "cell_type": "markdown",
   "id": "91df40ab",
   "metadata": {},
   "source": [
    "## Data types\n",
    "### Sets"
   ]
  },
  {
   "cell_type": "code",
   "execution_count": null,
   "id": "a2d16d16",
   "metadata": {},
   "outputs": [],
   "source": [
    "l1 = [1, 2, 3, 4, 5]\n",
    "s21 = {4, 5, 8, l1}"
   ]
  },
  {
   "cell_type": "markdown",
   "id": "07e2861b",
   "metadata": {},
   "source": [
    "### Boolean"
   ]
  },
  {
   "cell_type": "code",
   "execution_count": null,
   "id": "aa2bd2d9",
   "metadata": {},
   "outputs": [],
   "source": [
    "# Printing the values of True and False\n",
    "print(int(True))\n",
    "print(int(False))\n",
    "\n",
    "# Print the combination of values\n",
    "print(int(True)+int(False)+int(True))\n",
    "\n",
    "print(int(True+True))\n",
    "\n",
    "print(int(True-True+True))"
   ]
  },
  {
   "cell_type": "markdown",
   "id": "f49d8595",
   "metadata": {},
   "source": [
    "### Tuple and int value  , makes difference"
   ]
  },
  {
   "cell_type": "code",
   "execution_count": null,
   "id": "d243546d",
   "metadata": {},
   "outputs": [],
   "source": [
    "a = ()       # Tupple\n",
    "a = (10)     # Int\n",
    "a = (10,)    # Tuple\n",
    "\n",
    "a = {}       # Dict\n",
    "a = {23}     # set\n",
    "a = {\" \"}    # set\n",
    "\n",
    "\n",
    "\n",
    "\n",
    "print(type(a))\n"
   ]
  },
  {
   "cell_type": "markdown",
   "id": "15e2bd93",
   "metadata": {},
   "source": [
    "### List data Structure"
   ]
  },
  {
   "cell_type": "markdown",
   "id": "3abf8e03",
   "metadata": {},
   "source": [
    "#### Seeing the methodes of  clas list using dir()"
   ]
  },
  {
   "cell_type": "code",
   "execution_count": null,
   "id": "9e975232",
   "metadata": {},
   "outputs": [],
   "source": [
    "l = []\n",
    "# print(dir(l))\n",
    "for i in dir(l):\n",
    "    if i[:2] == \"__\":\n",
    "        print(i[2:len(i)-2])\n",
    "    else:\n",
    "        print(i)"
   ]
  },
  {
   "cell_type": "markdown",
   "id": "9d3ee399",
   "metadata": {},
   "source": [
    "#### Deep Copy and Shallow Copy"
   ]
  },
  {
   "cell_type": "code",
   "execution_count": null,
   "id": "ed255e17",
   "metadata": {},
   "outputs": [],
   "source": [
    "# lists having same references\n",
    "\n",
    "l1 = [20,34,56,[25,68]]\n",
    "l2 = l1\n",
    "# print(\"l1 id:-\",id(l1))\n",
    "# print(\"l2 id:-\",id(l2)) # They are having same referce of elements\n",
    "\n",
    "l1.append(36)\n",
    "# print(\"l2 =\",l2) # Changes of l1 are reflected in the l2 also \n",
    "\n",
    "# list shallow copy\n",
    "l2 = l1.copy()\n",
    "l1.append(43)\n",
    "print(l1,\"id:-\", id(l1))\n",
    "print(l2,\"id:-\", id(l2))\n",
    "\n",
    "l1[3].append(65)\n",
    "print(l1,\"id:-\", id(l1))\n",
    "print(l2,\"id:-\", id(l2)) # inner list data changes can be seen in l2 also\n",
    "\n"
   ]
  },
  {
   "cell_type": "markdown",
   "id": "3d30d294",
   "metadata": {},
   "source": [
    "#### Some example of list inbuilt functions"
   ]
  },
  {
   "cell_type": "code",
   "execution_count": null,
   "id": "2f0364d3",
   "metadata": {},
   "outputs": [],
   "source": [
    "l1 = [4,58,8]\n",
    "l2 = [2,3,4]\n",
    "l1.append(l2)\n",
    "print(l1,\"| id:-\",id(l1))\n",
    "\n",
    "l1.pop()\n",
    "print(l1,\"| id:-\",id(l1))\n",
    "\n",
    "l1.extend(l2)\n",
    "print(l1,\"| id:-\",id(l1))"
   ]
  },
  {
   "cell_type": "markdown",
   "id": "4a2e6e96",
   "metadata": {},
   "source": [
    "#### Usefull function related to list\n",
    "- len()\n",
    "- append()\n",
    "- pop()\n",
    "- extend()"
   ]
  },
  {
   "cell_type": "markdown",
   "id": "064b9060",
   "metadata": {},
   "source": [
    "### Dictionary"
   ]
  },
  {
   "cell_type": "code",
   "execution_count": null,
   "id": "c7d3f30e",
   "metadata": {},
   "outputs": [],
   "source": [
    "d1 = {'name':\"sharique\",\"age\":32,'adr':'Amravati'}\n",
    "\n",
    "# to get value by key\n",
    "d1['name']\n",
    "d1.get('age')\n",
    "\n",
    "# changing the value by passsing keys \n",
    "d1['name']=\"ABC\"\n",
    "\n",
    "# creating new key and value\n",
    "d1['state']= \"Maharashtra\"\n",
    "\n",
    "#if trying to add key which already exits will over write the key's value\n",
    "\n",
    "# you can not add mutable element in the dictionary i.e list and variabl\n",
    "\n",
    "#to get values\n",
    "d1.values()\n",
    "\n",
    "#to get keys\n",
    "d1.keys()\n",
    "\n",
    "#to get items\n",
    "d1.items()\n"
   ]
  },
  {
   "cell_type": "markdown",
   "id": "b79d3c78",
   "metadata": {},
   "source": [
    "### byte and bytearray\n",
    "byte in not mutable\n",
    "bytearray is"
   ]
  },
  {
   "cell_type": "markdown",
   "id": "3af2d1cb",
   "metadata": {},
   "source": [
    "## Data Types\n",
    "- nums:-\n",
    "    - int \n",
    "    - float\n",
    "    - complex\n",
    "\n",
    "- sequence:-\n",
    "    - str\n",
    "    - list\n",
    "    - tuple\n",
    "    - set\n",
    "    - frozenset\n",
    "    - range\n",
    "    - bytes\n",
    "    - bytes array\n",
    "\n",
    "- mapping:-\n",
    "    - dict\n",
    "    \n",
    "- constant:-\n",
    "    - Use CAPITAL letter to show it constant(WE can change though)\n",
    "    \n"
   ]
  },
  {
   "cell_type": "markdown",
   "id": "8b5c6d29",
   "metadata": {},
   "source": [
    "### Key words"
   ]
  },
  {
   "cell_type": "code",
   "execution_count": null,
   "id": "0ace9296",
   "metadata": {},
   "outputs": [],
   "source": [
    "import keyword\n",
    "\n",
    "print(keyword.kwlist)\n",
    "print(len(keyword.kwlist))"
   ]
  },
  {
   "cell_type": "markdown",
   "id": "650e9224",
   "metadata": {},
   "source": [
    "#### Converting python file into compiled file"
   ]
  },
  {
   "cell_type": "markdown",
   "id": "b324f529",
   "metadata": {},
   "source": [
    "__SBM__ (source --> Bye --> Machine)\n",
    ">cmd:- python -m py_compile ***File_path***  \n",
    ">wil genrate compiled code run the file from folder (byte code)\n",
    "\n",
    ">run this command python -m dis ***File_path***\n",
    "> disassembler(machine level code)"
   ]
  },
  {
   "cell_type": "code",
   "execution_count": null,
   "id": "f50f5190",
   "metadata": {},
   "outputs": [],
   "source": [
    "import math\n",
    "num = 5.66\n",
    "print(math.ceil(num)) #6\n",
    "print(math.floor(num)) #5"
   ]
  },
  {
   "cell_type": "markdown",
   "id": "7b03c2d6",
   "metadata": {},
   "source": [
    "# Command Line args"
   ]
  },
  {
   "cell_type": "code",
   "execution_count": null,
   "id": "6de9a77f",
   "metadata": {},
   "outputs": [],
   "source": [
    "from sys import argv\n",
    "print(argv)\n",
    "print(argv[0])"
   ]
  },
  {
   "cell_type": "markdown",
   "id": "35a4b520",
   "metadata": {},
   "source": [
    "Command line argumnets \n",
    "cmd> python filname 10 ,20, 30  \n",
    "argv[0] = 10    \n",
    "argv[1] = 20  \n",
    "argv[2] = 30  "
   ]
  },
  {
   "cell_type": "markdown",
   "id": "58111dcd",
   "metadata": {},
   "source": [
    "### Flow control\n",
    "- Conditional\n",
    "    - if\n",
    "    - if else\n",
    "    - elif\n",
    "- iterator\n",
    "    - for\n",
    "    - while\n",
    "- transfer\n",
    "    - break\n",
    "    - pass\n",
    "    - continue"
   ]
  },
  {
   "cell_type": "code",
   "execution_count": null,
   "id": "771658c2",
   "metadata": {},
   "outputs": [],
   "source": [
    "for i in range(10):\n",
    "    for j in range(i):\n",
    "        print(\"*\", end=\"\")\n",
    "    print()"
   ]
  },
  {
   "cell_type": "code",
   "execution_count": null,
   "id": "d628664f",
   "metadata": {},
   "outputs": [],
   "source": [
    "for i in range(10):\n",
    "    print(\"*\"*i)"
   ]
  },
  {
   "cell_type": "markdown",
   "id": "607daaef",
   "metadata": {},
   "source": [
    "### Enumerate Function"
   ]
  },
  {
   "cell_type": "code",
   "execution_count": null,
   "id": "8a476ee4",
   "metadata": {},
   "outputs": [],
   "source": [
    "l1 = [chr(65+i) for i in range(10)]\n",
    "for index, char in enumerate(l1):\n",
    "    print(f\"sr.no:- {index} and value is {char}\")"
   ]
  },
  {
   "cell_type": "markdown",
   "id": "2e0e0705",
   "metadata": {},
   "source": [
    "### Else with if"
   ]
  },
  {
   "cell_type": "code",
   "execution_count": null,
   "id": "64553195",
   "metadata": {},
   "outputs": [],
   "source": [
    "from random import randint\n",
    "num = int(input(\"Enter the number between 0 and 10\\n\"))\n",
    "for i in range(10):\n",
    "    if i == num:\n",
    "        print(f\"Your num was {i}\")\n",
    "        break\n",
    "else:\n",
    "    print(\"Wronge numbers\")"
   ]
  },
  {
   "cell_type": "markdown",
   "id": "def99f53",
   "metadata": {},
   "source": [
    "## Foobar in python\n",
    "For num%3 use foo  \n",
    "for num%5 use baar  \n",
    "for num %3 and num%5 use foobar  \n",
    "else use num"
   ]
  },
  {
   "cell_type": "code",
   "execution_count": null,
   "id": "288d63d9",
   "metadata": {},
   "outputs": [],
   "source": [
    "num = int(input(\"Enter the value:- \"))\n",
    "for n in range(1,num):\n",
    "    msg = \"\"\n",
    "    if n%3 == 0:\n",
    "        msg += \"foo\"\n",
    "    if n%5 == 0:\n",
    "        msg += \"baar\"\n",
    "    print(msg) if msg != \"\" else print(n)    "
   ]
  },
  {
   "cell_type": "code",
   "execution_count": null,
   "id": "d1aaf87f",
   "metadata": {},
   "outputs": [],
   "source": []
  }
 ],
 "metadata": {
  "kernelspec": {
   "display_name": "Python 3 (ipykernel)",
   "language": "python",
   "name": "python3"
  },
  "language_info": {
   "codemirror_mode": {
    "name": "ipython",
    "version": 3
   },
   "file_extension": ".py",
   "mimetype": "text/x-python",
   "name": "python",
   "nbconvert_exporter": "python",
   "pygments_lexer": "ipython3",
   "version": "3.9.7"
  },
  "notify_time": "5",
  "toc": {
   "base_numbering": 1,
   "nav_menu": {},
   "number_sections": false,
   "sideBar": true,
   "skip_h1_title": false,
   "title_cell": "Table of Contents",
   "title_sidebar": "Contents",
   "toc_cell": false,
   "toc_position": {},
   "toc_section_display": true,
   "toc_window_display": false
  }
 },
 "nbformat": 4,
 "nbformat_minor": 5
}
